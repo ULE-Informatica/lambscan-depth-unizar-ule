{
 "cells": [
  {
   "cell_type": "markdown",
   "metadata": {},
   "source": [
    "# Reviewers requests for paper _Lamb live weight estimation using 3D images_"
   ]
  },
  {
   "cell_type": "markdown",
   "metadata": {},
   "source": [
    "## Library imports"
   ]
  },
  {
   "cell_type": "code",
   "execution_count": 1,
   "metadata": {},
   "outputs": [],
   "source": [
    "import pandas as pd\n",
    "import os\n",
    "import matplotlib.pyplot as plt\n",
    "import numpy as np\n",
    "np.random.seed(2019)"
   ]
  },
  {
   "cell_type": "markdown",
   "metadata": {},
   "source": [
    "## Data loading"
   ]
  },
  {
   "cell_type": "code",
   "execution_count": 2,
   "metadata": {},
   "outputs": [
    {
     "name": "stdout",
     "output_type": "stream",
     "text": [
      "D.shape: (2069, 4)\n"
     ]
    },
    {
     "data": {
      "text/html": [
       "<div>\n",
       "<style scoped>\n",
       "    .dataframe tbody tr th:only-of-type {\n",
       "        vertical-align: middle;\n",
       "    }\n",
       "\n",
       "    .dataframe tbody tr th {\n",
       "        vertical-align: top;\n",
       "    }\n",
       "\n",
       "    .dataframe thead th {\n",
       "        text-align: right;\n",
       "    }\n",
       "</style>\n",
       "<table border=\"1\" class=\"dataframe\">\n",
       "  <thead>\n",
       "    <tr style=\"text-align: right;\">\n",
       "      <th></th>\n",
       "      <th>id</th>\n",
       "      <th>area</th>\n",
       "      <th>weight</th>\n",
       "      <th>uuid</th>\n",
       "    </tr>\n",
       "  </thead>\n",
       "  <tbody>\n",
       "    <tr>\n",
       "      <th>0</th>\n",
       "      <td>0268</td>\n",
       "      <td>316766.459982</td>\n",
       "      <td>24.5</td>\n",
       "      <td>3b144fdfdb9f4e02b0f65aed674fbd72</td>\n",
       "    </tr>\n",
       "    <tr>\n",
       "      <th>1</th>\n",
       "      <td>0261</td>\n",
       "      <td>339995.243532</td>\n",
       "      <td>27.1</td>\n",
       "      <td>960fd92c91f541f6b85889426c39a0fe</td>\n",
       "    </tr>\n",
       "    <tr>\n",
       "      <th>2</th>\n",
       "      <td>0236</td>\n",
       "      <td>328920.945876</td>\n",
       "      <td>25.5</td>\n",
       "      <td>ca10f050724d47f5971c3530ef341a8d</td>\n",
       "    </tr>\n",
       "    <tr>\n",
       "      <th>3</th>\n",
       "      <td>0236</td>\n",
       "      <td>331309.336892</td>\n",
       "      <td>25.5</td>\n",
       "      <td>3c4dcc3c6d83425dab0d0acd75227f99</td>\n",
       "    </tr>\n",
       "    <tr>\n",
       "      <th>4</th>\n",
       "      <td>0238</td>\n",
       "      <td>340636.324958</td>\n",
       "      <td>25.8</td>\n",
       "      <td>46d3f67bbf684992ac945ce7c1991ae7</td>\n",
       "    </tr>\n",
       "  </tbody>\n",
       "</table>\n",
       "</div>"
      ],
      "text/plain": [
       "     id           area  weight                              uuid\n",
       "0  0268  316766.459982    24.5  3b144fdfdb9f4e02b0f65aed674fbd72\n",
       "1  0261  339995.243532    27.1  960fd92c91f541f6b85889426c39a0fe\n",
       "2  0236  328920.945876    25.5  ca10f050724d47f5971c3530ef341a8d\n",
       "3  0236  331309.336892    25.5  3c4dcc3c6d83425dab0d0acd75227f99\n",
       "4  0238  340636.324958    25.8  46d3f67bbf684992ac945ce7c1991ae7"
      ]
     },
     "execution_count": 2,
     "metadata": {},
     "output_type": "execute_result"
    }
   ],
   "source": [
    "D = pd.read_csv(os.path.join('..', 'data', 'id_weight_sex_uuid_area.csv'), usecols=['id', 'sex','area', 'weight', 'uuid'])\n",
    "D = D.reindex(columns=['id', 'area', 'weight', 'uuid'])\n",
    "print(f'D.shape: {D.shape}')\n",
    "D.head()"
   ]
  },
  {
   "cell_type": "markdown",
   "metadata": {},
   "source": [
    "Sex has been dropped as requested"
   ]
  },
  {
   "cell_type": "markdown",
   "metadata": {},
   "source": [
    "## Duplicates removal"
   ]
  },
  {
   "cell_type": "code",
   "execution_count": 3,
   "metadata": {},
   "outputs": [
    {
     "data": {
      "text/plain": [
       "(828, 4)"
      ]
     },
     "execution_count": 3,
     "metadata": {},
     "output_type": "execute_result"
    }
   ],
   "source": [
    "D = D[~D.duplicated(subset=['area', 'weight'])]\n",
    "D.shape"
   ]
  },
  {
   "cell_type": "code",
   "execution_count": 4,
   "metadata": {},
   "outputs": [
    {
     "data": {
      "text/plain": [
       "54"
      ]
     },
     "execution_count": 4,
     "metadata": {},
     "output_type": "execute_result"
    }
   ],
   "source": [
    "ids = D.id.unique()\n",
    "len(ids)"
   ]
  },
  {
   "cell_type": "markdown",
   "metadata": {},
   "source": [
    "The dataset comprises 54 sheeps"
   ]
  },
  {
   "cell_type": "markdown",
   "metadata": {},
   "source": [
    "## Training set and test set splitting"
   ]
  },
  {
   "cell_type": "code",
   "execution_count": 5,
   "metadata": {},
   "outputs": [
    {
     "name": "stdout",
     "output_type": "stream",
     "text": [
      "Training set:32 \t Test set:22\n"
     ]
    }
   ],
   "source": [
    "from sklearn.metrics import mean_absolute_error, r2_score, mean_absolute_percentage_error\n",
    "from sklearn.model_selection import train_test_split\n",
    "\n",
    "ids_train, ids_test = train_test_split(D.id.unique(), shuffle=True, random_state=2019, test_size=0.4)\n",
    "print(f'Training set:{ids_train.shape[0]} \\t Test set:{ids_test.shape[0]}')\n",
    "\n",
    "D_train = D.query('id in @ids_train')\n",
    "D_train.to_csv('D_train.csv')\n",
    "D_test = D.query('id in @ids_test')\n",
    "D_test.to_csv('D_test.csv')"
   ]
  },
  {
   "cell_type": "code",
   "execution_count": 6,
   "metadata": {},
   "outputs": [
    {
     "data": {
      "image/png": "[encoded data removed]",
      "text/plain": [
       "<Figure size 432x432 with 1 Axes>"
      ]
     },
     "metadata": {
      "needs_background": "light"
     },
     "output_type": "display_data"
    }
   ],
   "source": [
    "fig, ax = plt.subplots(figsize=(6, 6))\n",
    "plt.title('Train set')\n",
    "D_train.groupby('id').mean().plot(kind='scatter', x='area', y='weight', ax=ax);\n",
    "#fig.savefig('area_vs_weight.pdf')"
   ]
  },
  {
   "cell_type": "code",
   "execution_count": 7,
   "metadata": {},
   "outputs": [
    {
     "data": {
      "image/png": "[encoded data removed]",
      "text/plain": [
       "<Figure size 432x432 with 1 Axes>"
      ]
     },
     "metadata": {
      "needs_background": "light"
     },
     "output_type": "display_data"
    }
   ],
   "source": [
    "fig, ax = plt.subplots(figsize=(6, 6))\n",
    "plt.title('Test set')\n",
    "D_test.groupby('id').mean().plot(kind='scatter', x='area', y='weight', ax=ax);"
   ]
  },
  {
   "cell_type": "code",
   "execution_count": 8,
   "metadata": {},
   "outputs": [],
   "source": [
    "X_train, y_train = D_train.groupby('id').mean().loc[:, ['area']], D_train.groupby('id').mean().loc[:, ['weight']] \n",
    "X_test, y_test = D_test.groupby('id').mean().loc[:, ['area']], D_test.groupby('id').mean().loc[:, ['weight']] "
   ]
  },
  {
   "cell_type": "markdown",
   "metadata": {},
   "source": [
    "## Pipegraph system definition"
   ]
  },
  {
   "cell_type": "code",
   "execution_count": 9,
   "metadata": {},
   "outputs": [],
   "source": [
    "from sklearn.preprocessing import MinMaxScaler, PolynomialFeatures\n",
    "from sklearn.linear_model import LinearRegression, Lasso, Ridge, ElasticNet\n",
    "from sklearn.svm import SVR\n",
    "from sklearn.ensemble import RandomForestRegressor, AdaBoostRegressor, ExtraTreesRegressor\n",
    "from sklearn.pipeline import Pipeline\n",
    "from sklearn.model_selection import GridSearchCV, ParameterGrid\n",
    "from sklearn.metrics import mean_absolute_error, mean_squared_error\n",
    "from sklearn.model_selection import learning_curve\n",
    "\n",
    "from pipegraph.base import PipeGraph, RegressorsWithDataDependentNumberOfReplicas, ColumnSelector, NeutralRegressor"
   ]
  },
  {
   "cell_type": "code",
   "execution_count": 10,
   "metadata": {},
   "outputs": [],
   "source": [
    "selector = ColumnSelector(mapping={'X': slice(0, 1),\n",
    "                                   'sex': slice(1,2)})\n",
    "poly = PolynomialFeatures(degree=30)\n",
    "\n",
    "scaler = MinMaxScaler()\n",
    "\n",
    "models = LinearRegression()\n",
    "\n",
    "neutral =  NeutralRegressor()\n",
    "\n",
    "steps = [('selector', selector),\n",
    "         ('poly', poly),\n",
    "         ('scaler', scaler),\n",
    "         ('models', models),\n",
    "         ('neutral', neutral)]\n",
    "\n",
    "connections = {'selector': {'X': 'X'},\n",
    "               \n",
    "               'poly': {'X': ('selector', 'X')},\n",
    "            \n",
    "               'scaler': {'X': 'poly'},\n",
    "            \n",
    "               'models': {'X': 'scaler',\n",
    "                          'y': 'y',\n",
    "                          'selection': ('selector', 'sex')},\n",
    "               'neutral': {'X': 'models',\n",
    "                           'y': 'y'},\n",
    "               }\n",
    "pgraph = PipeGraph(steps=steps, fit_connections=connections)\n"
   ]
  },
  {
   "cell_type": "markdown",
   "metadata": {},
   "source": [
    "# ```param_grid```  definition for GridSearchCV"
   ]
  },
  {
   "cell_type": "code",
   "execution_count": 11,
   "metadata": {},
   "outputs": [
    {
     "name": "stdout",
     "output_type": "stream",
     "text": [
      "Number of models: 12108\n"
     ]
    }
   ],
   "source": [
    "\n",
    "linear_reg  = LinearRegression()\n",
    "lasso_reg   = Lasso()   \n",
    "ridge_reg   =  Ridge()  \n",
    "elastic_reg =  ElasticNet()\n",
    "svr_reg     =  SVR() \n",
    "rf_reg      =  RandomForestRegressor()\n",
    "adaboost_reg = AdaBoostRegressor() \n",
    "extratrees_reg = ExtraTreesRegressor()\n",
    "\n",
    "\n",
    "linear_grid = {'models': [linear_reg],\n",
    "               'models__fit_intercept': [True, False],\n",
    "               'models__normalize': [True, False],\n",
    "               'poly__degree': range(1,5), \n",
    "               }\n",
    "\n",
    "lasso_grid = {'models': [lasso_reg],\n",
    "              'models__fit_intercept': [True, False],\n",
    "              'models__normalize': [True, False],\n",
    "              'models__alpha': np.linspace(0.5, 5, num=10), \n",
    "              'poly__degree': range(1,5),\n",
    "             }\n",
    "\n",
    "ridge_grid = {'models': [ridge_reg],\n",
    "              'models__fit_intercept': [True, False],\n",
    "              'models__normalize': [True, False],\n",
    "              'models__alpha': np.linspace(0.5, 5, num=10), \n",
    "              'poly__degree': range(1,5),\n",
    "             }\n",
    "\n",
    "elastic_grid = {'models': [elastic_reg],\n",
    "                'models__fit_intercept': [True, False],\n",
    "                'models__normalize': [True, False],\n",
    "                'models__alpha': np.linspace(0.5, 5, num=10), \n",
    "                'models__l1_ratio': np.linspace(0, 1, num=10), \n",
    "            \n",
    "               'poly__degree': range(1,5), \n",
    "               }\n",
    "\n",
    "svr_grid = {'models': [svr_reg],\n",
    "            'models__kernel': ['rbf', 'poly', 'sigmoid'],\n",
    "            'models__degree': range(1,5),\n",
    "            'models__gamma': ['auto', 'scale'],\n",
    "            'models__C': np.linspace(0.5,5, num=10),\n",
    "            'models__shrinking': [True, False],\n",
    "            'poly__degree': range(1,5) \n",
    "}\n",
    "\n",
    "rf_grid = {'models': [rf_reg],\n",
    "           'models__n_estimators': range(5,20),\n",
    "           'poly__degree': range(1,5) ,\n",
    "          }\n",
    "\n",
    "adaboost_grid = {'models': [adaboost_reg],\n",
    "                 'models__n_estimators': range(5,20),\n",
    "                 'poly__degree': range(1,5) ,\n",
    "                }\n",
    "\n",
    "extratrees_grid = {'models': [extratrees_reg],\n",
    "                   'models__n_estimators': range(5,20),\n",
    "                   'poly__degree': range(1,5) ,\n",
    "                   }\n",
    "\n",
    "param_grid = [linear_grid, \n",
    "              lasso_grid,\n",
    "              ridge_grid, \n",
    "              elastic_grid, \n",
    "              svr_grid,\n",
    "              rf_grid,\n",
    "              adaboost_grid,\n",
    "              extratrees_grid\n",
    "             ]\n",
    "\n",
    "cv_value = 3 \n",
    "print(f'Number of models: {cv_value* len(ParameterGrid(param_grid))}')"
   ]
  },
  {
   "cell_type": "markdown",
   "metadata": {},
   "source": [
    "## GridSearchCV hyperparameter tuning"
   ]
  },
  {
   "cell_type": "code",
   "execution_count": 12,
   "metadata": {
    "scrolled": true
   },
   "outputs": [
    {
     "name": "stdout",
     "output_type": "stream",
     "text": [
      "Fitting 3 folds for each of 4036 candidates, totalling 12108 fits\n"
     ]
    }
   ],
   "source": [
    "import warnings\n",
    "import sklearn\n",
    "\n",
    "with warnings.catch_warnings():\n",
    "    warnings.filterwarnings(\"ignore\",category=sklearn.exceptions.ConvergenceWarning)\n",
    "    warnings.filterwarnings(\"ignore\",category=sklearn.exceptions.DataConversionWarning)\n",
    "    gs = GridSearchCV(estimator=pgraph,\n",
    "                      param_grid=param_grid, \n",
    "                      cv=cv_value,\n",
    "                      refit=True, \n",
    "                      scoring='neg_mean_absolute_percentage_error',\n",
    "                      n_jobs=-1,\n",
    "                      verbose=10)\n",
    "    gs.fit(X_train, y_train)"
   ]
  },
  {
   "cell_type": "markdown",
   "metadata": {},
   "source": [
    "## Best model"
   ]
  },
  {
   "cell_type": "code",
   "execution_count": 13,
   "metadata": {},
   "outputs": [
    {
     "name": "stdout",
     "output_type": "stream",
     "text": [
      "Best estimator: LinearRegression(normalize=True)\n"
     ]
    }
   ],
   "source": [
    "gs.best_estimator_\n",
    "\n",
    "best_estimator = gs.best_estimator_\n",
    "print('Best estimator:', best_estimator.named_steps['models'])\n"
   ]
  },
  {
   "cell_type": "markdown",
   "metadata": {},
   "source": []
  },
  {
   "cell_type": "markdown",
   "metadata": {},
   "source": [
    "## R2-score"
   ]
  },
  {
   "cell_type": "code",
   "execution_count": 14,
   "metadata": {},
   "outputs": [
    {
     "name": "stdout",
     "output_type": "stream",
     "text": [
      "R2-score train: 0.8\n"
     ]
    }
   ],
   "source": [
    "y_train_pred = gs.predict(X_train)\n",
    "print(f'R2-score train: {round(r2_score(y_true=y_train, y_pred=y_train_pred), 2)}')"
   ]
  },
  {
   "cell_type": "markdown",
   "metadata": {},
   "source": [
    "#### Model coeficcients"
   ]
  },
  {
   "cell_type": "code",
   "execution_count": 15,
   "metadata": {},
   "outputs": [
    {
     "data": {
      "text/plain": [
       "array([[ 0.        , 13.07678043]])"
      ]
     },
     "execution_count": 15,
     "metadata": {},
     "output_type": "execute_result"
    }
   ],
   "source": [
    "best_estimator.named_steps.models.coef_\n"
   ]
  },
  {
   "cell_type": "markdown",
   "metadata": {},
   "source": [
    "## Results table"
   ]
  },
  {
   "cell_type": "code",
   "execution_count": 16,
   "metadata": {},
   "outputs": [
    {
     "data": {
      "text/plain": [
       "LinearRegression(normalize=True)"
      ]
     },
     "execution_count": 16,
     "metadata": {},
     "output_type": "execute_result"
    }
   ],
   "source": [
    "results = pd.DataFrame(gs.cv_results_)\n",
    "results['models'] = pd.DataFrame.from_records(results.params)['models'].apply(lambda x: str(x))\n",
    "results.params[0]['models']"
   ]
  },
  {
   "cell_type": "code",
   "execution_count": 17,
   "metadata": {},
   "outputs": [
    {
     "name": "stdout",
     "output_type": "stream",
     "text": [
      "Cross Validation mean errors\n"
     ]
    },
    {
     "data": {
      "text/html": [
       "<div>\n",
       "<style scoped>\n",
       "    .dataframe tbody tr th:only-of-type {\n",
       "        vertical-align: middle;\n",
       "    }\n",
       "\n",
       "    .dataframe tbody tr th {\n",
       "        vertical-align: top;\n",
       "    }\n",
       "\n",
       "    .dataframe thead th {\n",
       "        text-align: right;\n",
       "    }\n",
       "</style>\n",
       "<table border=\"1\" class=\"dataframe\">\n",
       "  <thead>\n",
       "    <tr style=\"text-align: right;\">\n",
       "      <th></th>\n",
       "      <th>mean_test_score</th>\n",
       "    </tr>\n",
       "    <tr>\n",
       "      <th>models</th>\n",
       "      <th></th>\n",
       "    </tr>\n",
       "  </thead>\n",
       "  <tbody>\n",
       "    <tr>\n",
       "      <th>LinearRegression(normalize=True)</th>\n",
       "      <td>-10.9</td>\n",
       "    </tr>\n",
       "    <tr>\n",
       "      <th>SVR()</th>\n",
       "      <td>-11.0</td>\n",
       "    </tr>\n",
       "    <tr>\n",
       "      <th>Ridge()</th>\n",
       "      <td>-11.9</td>\n",
       "    </tr>\n",
       "    <tr>\n",
       "      <th>AdaBoostRegressor()</th>\n",
       "      <td>-14.1</td>\n",
       "    </tr>\n",
       "    <tr>\n",
       "      <th>RandomForestRegressor()</th>\n",
       "      <td>-14.8</td>\n",
       "    </tr>\n",
       "    <tr>\n",
       "      <th>ElasticNet()</th>\n",
       "      <td>-15.4</td>\n",
       "    </tr>\n",
       "    <tr>\n",
       "      <th>Lasso()</th>\n",
       "      <td>-16.6</td>\n",
       "    </tr>\n",
       "    <tr>\n",
       "      <th>ExtraTreesRegressor()</th>\n",
       "      <td>-19.7</td>\n",
       "    </tr>\n",
       "  </tbody>\n",
       "</table>\n",
       "</div>"
      ],
      "text/plain": [
       "                                  mean_test_score\n",
       "models                                           \n",
       "LinearRegression(normalize=True)            -10.9\n",
       "SVR()                                       -11.0\n",
       "Ridge()                                     -11.9\n",
       "AdaBoostRegressor()                         -14.1\n",
       "RandomForestRegressor()                     -14.8\n",
       "ElasticNet()                                -15.4\n",
       "Lasso()                                     -16.6\n",
       "ExtraTreesRegressor()                       -19.7"
      ]
     },
     "execution_count": 17,
     "metadata": {},
     "output_type": "execute_result"
    }
   ],
   "source": [
    "best_results_per_model_type = pd.pivot_table(data=results,\n",
    "                                             index='models',\n",
    "                                             values = ['mean_test_score'],\n",
    "                                             aggfunc='max')\n",
    "\n",
    "print('Cross Validation mean errors')\n",
    "best_results_per_model_type.sort_values(by='mean_test_score', ascending=False, inplace=True)\n",
    "(best_results_per_model_type*100).round(1)"
   ]
  },
  {
   "cell_type": "markdown",
   "metadata": {},
   "source": [
    "## Plots: Actual vs. Predicted values"
   ]
  },
  {
   "cell_type": "code",
   "execution_count": 18,
   "metadata": {},
   "outputs": [],
   "source": [
    "y_test_pred = gs.predict(X_test)"
   ]
  },
  {
   "cell_type": "code",
   "execution_count": 19,
   "metadata": {},
   "outputs": [
    {
     "data": {
      "text/plain": [
       "Text(0.5, 1.0, 'Weight vs. Area')"
      ]
     },
     "execution_count": 19,
     "metadata": {},
     "output_type": "execute_result"
    },
    {
     "data": {
      "image/png": "[encoded data removed]",
      "text/plain": [
       "<Figure size 432x432 with 1 Axes>"
      ]
     },
     "metadata": {
      "needs_background": "light"
     },
     "output_type": "display_data"
    }
   ],
   "source": [
    "fig, ax = plt.subplots(figsize=(6, 6))\n",
    "#ax.set_xlim(10,30)\n",
    "ax.set_ylim(10,30)\n",
    "plt.scatter(X_train.area, y_train_pred)\n",
    "plt.scatter(X_train.area, y_train.weight, c='r', marker='x');\n",
    "plt.title('Weight vs. Area')"
   ]
  },
  {
   "cell_type": "code",
   "execution_count": 20,
   "metadata": {},
   "outputs": [
    {
     "data": {
      "text/plain": [
       "Text(0.5, 1.0, 'y Actual vs. y Predicted: Train dataset')"
      ]
     },
     "execution_count": 20,
     "metadata": {},
     "output_type": "execute_result"
    },
    {
     "data": {
      "image/png": "[encoded data removed]",
      "text/plain": [
       "<Figure size 432x432 with 1 Axes>"
      ]
     },
     "metadata": {
      "needs_background": "light"
     },
     "output_type": "display_data"
    }
   ],
   "source": [
    "fig, ax = plt.subplots(figsize=(6, 6))\n",
    "ax.set_xlim(10,30)\n",
    "ax.set_ylim(10,30)\n",
    "ax.plot([0, 1], [0, 1], transform=ax.transAxes)\n",
    "plt.scatter(y_train_pred, y_train)\n",
    "plt.title('y Actual vs. y Predicted: Train dataset')\n"
   ]
  },
  {
   "cell_type": "code",
   "execution_count": 21,
   "metadata": {},
   "outputs": [
    {
     "data": {
      "text/plain": [
       "Text(0.5, 1.0, 'Residuals: Train dataset')"
      ]
     },
     "execution_count": 21,
     "metadata": {},
     "output_type": "execute_result"
    },
    {
     "data": {
      "image/png": "[encoded data removed]",
      "text/plain": [
       "<Figure size 432x432 with 1 Axes>"
      ]
     },
     "metadata": {
      "needs_background": "light"
     },
     "output_type": "display_data"
    }
   ],
   "source": [
    "fig, ax = plt.subplots(figsize=(6, 6))\n",
    "ax.set_xlim(10,30)\n",
    "ax.set_ylim(-5,5)\n",
    "plt.scatter(y_train,  y_train_pred -y_train.values);\n",
    "plt.title('Residuals: Train dataset')"
   ]
  },
  {
   "cell_type": "markdown",
   "metadata": {},
   "source": [
    "## Error summary"
   ]
  },
  {
   "cell_type": "code",
   "execution_count": 22,
   "metadata": {},
   "outputs": [
    {
     "name": "stdout",
     "output_type": "stream",
     "text": [
      "MAE train: 1.36\n",
      "MAE test: 1.55\n",
      "MSE train: 3.11\n",
      "MSE test: 4.7\n",
      "MRAE train: 0.06\n",
      "MRAE test: 0.07\n"
     ]
    }
   ],
   "source": [
    "## Global error\n",
    "print(f'MAE train: {round(mean_absolute_error(y_true=y_train, y_pred=y_train_pred), 2)}')\n",
    "print(f'MAE test: {round(mean_absolute_error(y_true=y_test, y_pred=y_test_pred), 2)}')\n",
    "print(f'MSE train: {round(mean_squared_error(y_true=y_train, y_pred=y_train_pred), 2)}')\n",
    "print(f'MSE test: {round(mean_squared_error(y_true=y_test, y_pred=y_test_pred), 2)}')\n",
    "print(f'MRAE train: {round(mean_absolute_percentage_error(y_true=y_train, y_pred=y_train_pred), 2)}')\n",
    "print(f'MRAE test: {round(mean_absolute_percentage_error(y_true=y_test, y_pred=y_test_pred), 2)}')\n"
   ]
  },
  {
   "cell_type": "markdown",
   "metadata": {},
   "source": [
    "###### Learning curves"
   ]
  },
  {
   "cell_type": "code",
   "execution_count": 23,
   "metadata": {},
   "outputs": [],
   "source": [
    "from sklearn.model_selection import ShuffleSplit\n",
    "\n",
    "# The code for this function comes from Aurelien Geron's book:\n",
    "# 'Hands-on machine learning with Scikit-Learn and Tensorflow'\n",
    "\n",
    "def plot_learning_curve(estimator, title, X, y, ylim=None, cv=None,\n",
    "                        n_jobs=None, train_sizes=np.linspace(.1, 1.0, 5), scoring=None):\n",
    "    \"\"\"\n",
    "    Generate a simple plot of the test and training learning curve.\n",
    "\n",
    "    Parameters\n",
    "    ----------\n",
    "    estimator : object type that implements the \"fit\" and \"predict\" methods\n",
    "        An object of that type which is cloned for each validation.\n",
    "\n",
    "    title : string\n",
    "        Title for the chart.\n",
    "\n",
    "    X : array-like, shape (n_samples, n_features)\n",
    "        Training vector, where n_samples is the number of samples and\n",
    "        n_features is the number of features.\n",
    "\n",
    "    y : array-like, shape (n_samples) or (n_samples, n_features), optional\n",
    "        Target relative to X for classification or regression;\n",
    "        None for unsupervised learning.\n",
    "\n",
    "    ylim : tuple, shape (ymin, ymax), optional\n",
    "        Defines minimum and maximum yvalues plotted.\n",
    "\n",
    "    cv : int, cross-validation generator or an iterable, optional\n",
    "        Determines the cross-validation splitting strategy.\n",
    "        Possible inputs for cv are:\n",
    "          - None, to use the default 3-fold cross-validation,\n",
    "          - integer, to specify the number of folds.\n",
    "          - :term:`CV splitter`,\n",
    "          - An iterable yielding (train, test) splits as arrays of indices.\n",
    "\n",
    "        For integer/None inputs, if ``y`` is binary or multiclass,\n",
    "        :class:`StratifiedKFold` used. If the estimator is not a classifier\n",
    "        or if ``y`` is neither binary nor multiclass, :class:`KFold` is used.\n",
    "\n",
    "        Refer :ref:`User Guide <cross_validation>` for the various\n",
    "        cross-validators that can be used here.\n",
    "\n",
    "    n_jobs : int or None, optional (default=None)\n",
    "        Number of jobs to run in parallel.\n",
    "        ``None`` means 1 unless in a :obj:`joblib.parallel_backend` context.\n",
    "        ``-1`` means using all processors. See :term:`Glossary <n_jobs>`\n",
    "        for more details.\n",
    "\n",
    "    train_sizes : array-like, shape (n_ticks,), dtype float or int\n",
    "        Relative or absolute numbers of training examples that will be used to\n",
    "        generate the learning curve. If the dtype is float, it is regarded as a\n",
    "        fraction of the maximum size of the training set (that is determined\n",
    "        by the selected validation method), i.e. it has to be within (0, 1].\n",
    "        Otherwise it is interpreted as absolute sizes of the training sets.\n",
    "        Note that for classification the number of samples usually have to\n",
    "        be big enough to contain at least one sample from each class.\n",
    "        (default: np.linspace(0.1, 1.0, 5))\n",
    "    \"\"\"\n",
    "    plt.figure()\n",
    "    plt.title(title)\n",
    "    if ylim is not None:\n",
    "        plt.ylim(*ylim)\n",
    "    plt.xlabel(\"Training examples\")\n",
    "    plt.ylabel(\"Score\")\n",
    "    train_sizes, train_scores, test_scores = learning_curve(\n",
    "        estimator, X, y, cv=cv, n_jobs=n_jobs, train_sizes=train_sizes, scoring=scoring)\n",
    "    train_scores_mean = np.mean(train_scores, axis=1)\n",
    "    train_scores_std = np.std(train_scores, axis=1)\n",
    "    test_scores_mean = np.mean(test_scores, axis=1)\n",
    "    test_scores_std = np.std(test_scores, axis=1)\n",
    "    plt.grid()\n",
    "\n",
    "    plt.fill_between(train_sizes, train_scores_mean - train_scores_std,\n",
    "                     train_scores_mean + train_scores_std, alpha=0.1,\n",
    "                     color=\"r\")\n",
    "    plt.fill_between(train_sizes, test_scores_mean - test_scores_std,\n",
    "                     test_scores_mean + test_scores_std, alpha=0.1, color=\"g\")\n",
    "    plt.plot(train_sizes, train_scores_mean, 'o-', color=\"r\",\n",
    "             label=\"Training score\")\n",
    "    plt.plot(train_sizes, test_scores_mean, 'o-', color=\"g\",\n",
    "             label=\"Cross-validation score\")\n",
    "\n",
    "    plt.legend(loc=\"best\")\n",
    "    return plt"
   ]
  },
  {
   "cell_type": "markdown",
   "metadata": {},
   "source": [
    "###### Learning curves"
   ]
  },
  {
   "cell_type": "code",
   "execution_count": 24,
   "metadata": {},
   "outputs": [],
   "source": [
    "from sklearn.model_selection import ShuffleSplit\n",
    "\n",
    "# The code for this function comes from Aurelien Geron's book:\n",
    "# 'Hands-on machine learning with Scikit-Learn and Tensorflow'\n",
    "\n",
    "def plot_learning_curve(estimator, title, X, y, ylim=None, cv=None,\n",
    "                        n_jobs=None, train_sizes=np.linspace(.1, 1.0, 5), scoring=None):\n",
    "    \"\"\"\n",
    "    Generate a simple plot of the test and training learning curve.\n",
    "\n",
    "    Parameters\n",
    "    ----------\n",
    "    estimator : object type that implements the \"fit\" and \"predict\" methods\n",
    "        An object of that type which is cloned for each validation.\n",
    "\n",
    "    title : string\n",
    "        Title for the chart.\n",
    "\n",
    "    X : array-like, shape (n_samples, n_features)\n",
    "        Training vector, where n_samples is the number of samples and\n",
    "        n_features is the number of features.\n",
    "\n",
    "    y : array-like, shape (n_samples) or (n_samples, n_features), optional\n",
    "        Target relative to X for classification or regression;\n",
    "        None for unsupervised learning.\n",
    "\n",
    "    ylim : tuple, shape (ymin, ymax), optional\n",
    "        Defines minimum and maximum yvalues plotted.\n",
    "\n",
    "    cv : int, cross-validation generator or an iterable, optional\n",
    "        Determines the cross-validation splitting strategy.\n",
    "        Possible inputs for cv are:\n",
    "          - None, to use the default 3-fold cross-validation,\n",
    "          - integer, to specify the number of folds.\n",
    "          - :term:`CV splitter`,\n",
    "          - An iterable yielding (train, test) splits as arrays of indices.\n",
    "\n",
    "        For integer/None inputs, if ``y`` is binary or multiclass,\n",
    "        :class:`StratifiedKFold` used. If the estimator is not a classifier\n",
    "        or if ``y`` is neither binary nor multiclass, :class:`KFold` is used.\n",
    "\n",
    "        Refer :ref:`User Guide <cross_validation>` for the various\n",
    "        cross-validators that can be used here.\n",
    "\n",
    "    n_jobs : int or None, optional (default=None)\n",
    "        Number of jobs to run in parallel.\n",
    "        ``None`` means 1 unless in a :obj:`joblib.parallel_backend` context.\n",
    "        ``-1`` means using all processors. See :term:`Glossary <n_jobs>`\n",
    "        for more details.\n",
    "\n",
    "    train_sizes : array-like, shape (n_ticks,), dtype float or int\n",
    "        Relative or absolute numbers of training examples that will be used to\n",
    "        generate the learning curve. If the dtype is float, it is regarded as a\n",
    "        fraction of the maximum size of the training set (that is determined\n",
    "        by the selected validation method), i.e. it has to be within (0, 1].\n",
    "        Otherwise it is interpreted as absolute sizes of the training sets.\n",
    "        Note that for classification the number of samples usually have to\n",
    "        be big enough to contain at least one sample from each class.\n",
    "        (default: np.linspace(0.1, 1.0, 5))\n",
    "    \"\"\"\n",
    "    plt.figure()\n",
    "    plt.title(title)\n",
    "    if ylim is not None:\n",
    "        plt.ylim(*ylim)\n",
    "    plt.xlabel(\"Training examples\")\n",
    "    plt.ylabel(\"Score\")\n",
    "    train_sizes, train_scores, test_scores = learning_curve(\n",
    "        estimator, X, y, cv=cv, n_jobs=n_jobs, train_sizes=train_sizes, scoring=scoring)\n",
    "    train_scores_mean = np.mean(train_scores, axis=1)\n",
    "    train_scores_std = np.std(train_scores, axis=1)\n",
    "    test_scores_mean = np.mean(test_scores, axis=1)\n",
    "    test_scores_std = np.std(test_scores, axis=1)\n",
    "    plt.grid()\n",
    "\n",
    "    plt.fill_between(train_sizes, train_scores_mean - train_scores_std,\n",
    "                     train_scores_mean + train_scores_std, alpha=0.1,\n",
    "                     color=\"r\")\n",
    "    plt.fill_between(train_sizes, test_scores_mean - test_scores_std,\n",
    "                     test_scores_mean + test_scores_std, alpha=0.1, color=\"g\")\n",
    "    plt.plot(train_sizes, train_scores_mean, 'o-', color=\"r\",\n",
    "             label=\"Training score\")\n",
    "    plt.plot(train_sizes, test_scores_mean, 'o-', color=\"g\",\n",
    "             label=\"Cross-validation score\")\n",
    "\n",
    "    plt.legend(loc=\"best\")\n",
    "    return plt"
   ]
  },
  {
   "cell_type": "code",
   "execution_count": 25,
   "metadata": {},
   "outputs": [
    {
     "name": "stderr",
     "output_type": "stream",
     "text": [
      "DEBUG:matplotlib.backends.backend_pdf:Assigning font /b'F1' = '/Users/mcasl/anaconda3/envs/lambscan_depth/lib/python3.6/site-packages/matplotlib/mpl-data/fonts/ttf/DejaVuSans.ttf'\n",
      "DEBUG:matplotlib.backends.backend_pdf:Embedding font /Users/mcasl/anaconda3/envs/lambscan_depth/lib/python3.6/site-packages/matplotlib/mpl-data/fonts/ttf/DejaVuSans.ttf.\n",
      "DEBUG:matplotlib.backends.backend_pdf:Writing TrueType font.\n"
     ]
    },
    {
     "data": {
      "image/png": "[encoded data removed]",
      "text/plain": [
       "<Figure size 432x288 with 1 Axes>"
      ]
     },
     "metadata": {
      "needs_background": "light"
     },
     "output_type": "display_data"
    }
   ],
   "source": [
    "\n",
    "title = \"Learning Curves (Best estimator)\"\n",
    "# Cross validation with 100 iterations to get smoother mean test and train\n",
    "# score curves, each time with 20% data randomly selected as a validation set.\n",
    "cv =ShuffleSplit(n_splits=10, test_size=0.2, random_state=42)\n",
    "\n",
    "dibu = plot_learning_curve(best_estimator,\n",
    "                    title,\n",
    "                    X_train,\n",
    "                    y_train,\n",
    "                    train_sizes=range(1, 26),\n",
    "                    cv=cv,\n",
    "                    n_jobs=-1,\n",
    "                    \n",
    "                    scoring='neg_mean_absolute_percentage_error');\n",
    "dibu.savefig(\"learning_curve_no_sex.pdf\")"
   ]
  },
  {
   "cell_type": "code",
   "execution_count": null,
   "metadata": {},
   "outputs": [],
   "source": []
  }
 ],
 "metadata": {
  "kernelspec": {
   "display_name": "PyCharm (lambscan_depth)",
   "language": "python",
   "name": "pycharm-d4ebc98b"
  },
  "language_info": {
   "codemirror_mode": {
    "name": "ipython",
    "version": 3
   },
   "file_extension": ".py",
   "mimetype": "text/x-python",
   "name": "python",
   "nbconvert_exporter": "python",
   "pygments_lexer": "ipython3",
   "version": "3.6.10"
  },
  "toc": {
   "base_numbering": 1,
   "nav_menu": {},
   "number_sections": true,
   "sideBar": true,
   "skip_h1_title": false,
   "title_cell": "Table of Contents",
   "title_sidebar": "Contents",
   "toc_cell": false,
   "toc_position": {},
   "toc_section_display": true,
   "toc_window_display": true
  }
 },
 "nbformat": 4,
 "nbformat_minor": 2
}
